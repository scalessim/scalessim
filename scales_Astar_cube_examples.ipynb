{
 "cells": [
  {
   "cell_type": "code",
   "execution_count": 1,
   "metadata": {},
   "outputs": [],
   "source": [
    "import sys\n",
    "import numpy as np\n",
    "import matplotlib.pyplot as plt\n",
    "import os\n",
    "from astropy.io import fits\n",
    "import scipy.ndimage\n",
    "from astropy import units as u\n",
    "\n",
    "from scalessim.io import *\n",
    "from scalessim.focal_plane import *\n",
    "from scalessim.targs import *\n",
    "from scalessim.base import *\n",
    "from scalessim.detectors import *\n",
    "from scalessim.widgets import *\n",
    "from scalessim.psfs import *\n",
    "from scalessim.scales import *\n",
    "\n",
    "\n",
    "%load_ext autoreload\n",
    "%autoreload 2"
   ]
  },
  {
   "cell_type": "markdown",
   "metadata": {},
   "source": [
    "## Choose SCALES mode and setup output directory"
   ]
  },
  {
   "cell_type": "code",
   "execution_count": 2,
   "metadata": {},
   "outputs": [
    {
     "data": {
      "application/vnd.jupyter.widget-view+json": {
       "model_id": "678456ed485e41779fabadb211f25f77",
       "version_major": 2,
       "version_minor": 0
      },
      "text/plain": [
       "Dropdown(description='Mode:', options=('SED: 2.0-5.2', 'K: 1.95-2.45', 'L: 2.9-4.15', 'M: 4.5-5.2', 'H2O: 2.0-…"
      ]
     },
     "execution_count": 2,
     "metadata": {},
     "output_type": "execute_result"
    }
   ],
   "source": [
    "scalesmode = mode_select(start=0)\n",
    "scalesmode"
   ]
  },
  {
   "cell_type": "code",
   "execution_count": 3,
   "metadata": {},
   "outputs": [],
   "source": [
    "sim = SCALES(scalesmode)"
   ]
  },
  {
   "cell_type": "code",
   "execution_count": 4,
   "metadata": {},
   "outputs": [],
   "source": [
    "tot_h = 1.0\n",
    "nexps = 2\n",
    "\n",
    "odir = 'cube_examples/'"
   ]
  },
  {
   "cell_type": "markdown",
   "metadata": {},
   "source": [
    "## Choose guide star mag (and generate realistic PSFs)"
   ]
  },
  {
   "cell_type": "code",
   "execution_count": 5,
   "metadata": {},
   "outputs": [
    {
     "data": {
      "application/vnd.jupyter.widget-view+json": {
       "model_id": "27053c82dcaf46d4989109f8e55c6d8e",
       "version_major": 2,
       "version_minor": 0
      },
      "text/plain": [
       "Dropdown(description='GS Mag:', options=(5, 12, 13, 14), value=5)"
      ]
     },
     "execution_count": 5,
     "metadata": {},
     "output_type": "execute_result"
    }
   ],
   "source": [
    "guidestar = gs_select()\n",
    "guidestar"
   ]
  },
  {
   "cell_type": "markdown",
   "metadata": {},
   "source": [
    "## Set up PSFs and A star target"
   ]
  },
  {
   "cell_type": "code",
   "execution_count": 6,
   "metadata": {},
   "outputs": [],
   "source": [
    "if os.path.isdir(odir)==False:\n",
    "    os.mkdir(odir)\n",
    "PSF = PSFs(guidestar)"
   ]
  },
  {
   "cell_type": "code",
   "execution_count": 7,
   "metadata": {},
   "outputs": [],
   "source": [
    "psfs = PSF.PSF_sequence(nframes=nexps, vortex=False)"
   ]
  },
  {
   "cell_type": "code",
   "execution_count": 9,
   "metadata": {},
   "outputs": [],
   "source": [
    "T_s = 10000 #stellar temperature in K\n",
    "logg = 4.5 #stellar log g\n",
    "zz = 0.0 #stellar metallicity\n",
    "rstar = 2.0 #stellar radius\n",
    "dstar = 10 #stellar distance in pc\n",
    "\n",
    "targ, targ_bg = star_and_bkg(T_s=T_s,logg=logg,zz=zz,rstar=rstar,dstar=dstar)  "
   ]
  },
  {
   "cell_type": "markdown",
   "metadata": {},
   "source": [
    "## generate cubes using scalessim target"
   ]
  },
  {
   "cell_type": "code",
   "execution_count": 17,
   "metadata": {},
   "outputs": [],
   "source": [
    "Astar_ims,cube_lams = sim.cube(targ=targ,psf=psfs,verbose=True,dit=tot_h*3600/nexps)"
   ]
  },
  {
   "cell_type": "code",
   "execution_count": 11,
   "metadata": {},
   "outputs": [
    {
     "name": "stdout",
     "output_type": "stream",
     "text": [
      "(2, 27, 108, 108)\n"
     ]
    }
   ],
   "source": [
    "print(Astar_ims.shape)"
   ]
  },
  {
   "cell_type": "code",
   "execution_count": 12,
   "metadata": {},
   "outputs": [],
   "source": [
    "pyfits.writeto(odir+'A_star_cube_0.fits',Astar_ims,overwrite=True)"
   ]
  },
  {
   "cell_type": "markdown",
   "metadata": {},
   "source": [
    "## generate cubes by convolving user-made scene with PSF"
   ]
  },
  {
   "cell_type": "code",
   "execution_count": 13,
   "metadata": {},
   "outputs": [],
   "source": [
    "##load oversampled wavelength spacing from scalessim\n",
    "wav = sim.fp.lam.value\n",
    "\n",
    "##load spectrum for planet\n",
    "lam,plan = sonora_planet(T_p=300,sg=100,rp=1.0,d=dstar)\n",
    "\n",
    "##downsample planet spectrum\n",
    "plan2 = spectres(wav, lam, plan)\n",
    "\n",
    "##load spectrum for star\n",
    "lam,star = phoenix_star(T_s=T_s,logg=logg,zz=zz,rstar=rstar,dstar=dstar)\n",
    "\n",
    "##downsample star spectrum\n",
    "star2 = spectres(wav,lam,star)\n",
    "\n",
    "##put star and planet into 341x108x108 scene\n",
    "scene = np.zeros([len(wav),108,108])\n",
    "scene[:,54,54] = star2\n",
    "scene[:,44,44] = plan2\n"
   ]
  },
  {
   "cell_type": "code",
   "execution_count": 14,
   "metadata": {},
   "outputs": [],
   "source": [
    "#convolve scene with PSFs\n",
    "convscene = PSF.convolve(psfs,scene)*u.erg/u.cm/u.cm/u.s/u.um"
   ]
  },
  {
   "cell_type": "code",
   "execution_count": 18,
   "metadata": {},
   "outputs": [],
   "source": [
    "Astar_ims_2,cube_lams_2 = sim.cube(cube_in=convscene,dit=tot_h*3600/nexps)"
   ]
  },
  {
   "cell_type": "code",
   "execution_count": 16,
   "metadata": {},
   "outputs": [],
   "source": [
    "pyfits.writeto(odir+'A_star_cube_1.fits',Astar_ims,overwrite=True)"
   ]
  }
 ],
 "metadata": {
  "kernelspec": {
   "display_name": "Python 3 (ipykernel)",
   "language": "python",
   "name": "python3"
  },
  "language_info": {
   "codemirror_mode": {
    "name": "ipython",
    "version": 3
   },
   "file_extension": ".py",
   "mimetype": "text/x-python",
   "name": "python",
   "nbconvert_exporter": "python",
   "pygments_lexer": "ipython3",
   "version": "3.11.9"
  }
 },
 "nbformat": 4,
 "nbformat_minor": 4
}
